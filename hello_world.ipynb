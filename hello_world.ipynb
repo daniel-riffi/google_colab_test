{
  "nbformat": 4,
  "nbformat_minor": 0,
  "metadata": {
    "colab": {
      "name": "hello_world.ipynb",
      "provenance": [],
      "collapsed_sections": [],
      "authorship_tag": "ABX9TyOQUZIkqk3SmKAhia2szA+t",
      "include_colab_link": true
    },
    "kernelspec": {
      "name": "python3",
      "display_name": "Python 3"
    },
    "accelerator": "GPU"
  },
  "cells": [
    {
      "cell_type": "markdown",
      "metadata": {
        "id": "view-in-github",
        "colab_type": "text"
      },
      "source": [
        "<a href=\"https://colab.research.google.com/github/daniel-riffi/google_colab_test/blob/main/hello_world.ipynb\" target=\"_parent\"><img src=\"https://colab.research.google.com/assets/colab-badge.svg\" alt=\"Open In Colab\"/></a>"
      ]
    },
    {
      "cell_type": "code",
      "metadata": {
        "colab": {
          "base_uri": "https://localhost:8080/"
        },
        "id": "mltfgZk0bjnT",
        "outputId": "23939240-3c66-4a78-e9af-8a549aeed43f"
      },
      "source": [
        "!pip install -Uqq fastbook\n",
        "import fastbook\n",
        "fastbook.setup_book()"
      ],
      "execution_count": 1,
      "outputs": [
        {
          "output_type": "stream",
          "text": [
            "\u001b[K     |████████████████████████████████| 727kB 9.3MB/s \n",
            "\u001b[K     |████████████████████████████████| 51kB 7.3MB/s \n",
            "\u001b[K     |████████████████████████████████| 1.1MB 13.6MB/s \n",
            "\u001b[K     |████████████████████████████████| 194kB 30.4MB/s \n",
            "\u001b[K     |████████████████████████████████| 51kB 6.2MB/s \n",
            "\u001b[K     |████████████████████████████████| 92kB 9.9MB/s \n",
            "\u001b[K     |████████████████████████████████| 40kB 6.3MB/s \n",
            "\u001b[K     |████████████████████████████████| 51kB 8.0MB/s \n",
            "\u001b[K     |████████████████████████████████| 51kB 8.4MB/s \n",
            "\u001b[K     |████████████████████████████████| 61kB 9.5MB/s \n",
            "\u001b[K     |████████████████████████████████| 2.6MB 29.9MB/s \n",
            "\u001b[?25hMounted at /content/gdrive\n"
          ],
          "name": "stdout"
        }
      ]
    },
    {
      "cell_type": "code",
      "metadata": {
        "id": "4tT1M_z3bzcX"
      },
      "source": [
        "from fastbook import *\n",
        "from fastai.collab import *\n",
        "from fastai.tabular.all import *"
      ],
      "execution_count": 8,
      "outputs": []
    },
    {
      "cell_type": "code",
      "metadata": {
        "colab": {
          "base_uri": "https://localhost:8080/"
        },
        "id": "2hlOK-xOcAyp",
        "outputId": "e2d5fae9-8e71-4536-cac7-198809bfe955"
      },
      "source": [
        "print('hello world')"
      ],
      "execution_count": 3,
      "outputs": [
        {
          "output_type": "stream",
          "text": [
            "hello world\n"
          ],
          "name": "stdout"
        }
      ]
    },
    {
      "cell_type": "code",
      "metadata": {
        "id": "jYB-uNKScDHf"
      },
      "source": [
        "base_path = '/content/gdrive/My Drive/schule/diplomarbeit/mpd'\n",
        "mpd_csv_file = f'{base_path}/mpd_slice_0-9999.csv'"
      ],
      "execution_count": 5,
      "outputs": []
    },
    {
      "cell_type": "code",
      "metadata": {
        "colab": {
          "base_uri": "https://localhost:8080/",
          "height": 348
        },
        "id": "lu--IE3CcF7T",
        "outputId": "3845b838-2f97-47be-8e2a-e3d93924ca24"
      },
      "source": [
        "playlists = pd.read_csv(mpd_csv_file, delimiter=',', encoding='utf-8', header=None, low_memory=False,\n",
        "                       names=['pid','track_uri','rating','playlist_name','track_name','artist_uri','artist_name'], skiprows=1)\n",
        "playlists.head()"
      ],
      "execution_count": 6,
      "outputs": [
        {
          "output_type": "execute_result",
          "data": {
            "text/html": [
              "<div>\n",
              "<style scoped>\n",
              "    .dataframe tbody tr th:only-of-type {\n",
              "        vertical-align: middle;\n",
              "    }\n",
              "\n",
              "    .dataframe tbody tr th {\n",
              "        vertical-align: top;\n",
              "    }\n",
              "\n",
              "    .dataframe thead th {\n",
              "        text-align: right;\n",
              "    }\n",
              "</style>\n",
              "<table border=\"1\" class=\"dataframe\">\n",
              "  <thead>\n",
              "    <tr style=\"text-align: right;\">\n",
              "      <th></th>\n",
              "      <th>pid</th>\n",
              "      <th>track_uri</th>\n",
              "      <th>rating</th>\n",
              "      <th>playlist_name</th>\n",
              "      <th>track_name</th>\n",
              "      <th>artist_uri</th>\n",
              "      <th>artist_name</th>\n",
              "    </tr>\n",
              "  </thead>\n",
              "  <tbody>\n",
              "    <tr>\n",
              "      <th>0</th>\n",
              "      <td>0</td>\n",
              "      <td>spotify:track:0UaMYEvWZi0ZqiDOoHU3YI</td>\n",
              "      <td>1</td>\n",
              "      <td>Throwbacks</td>\n",
              "      <td>Lose Control (feat. Ciara &amp; Fat Man Scoop)</td>\n",
              "      <td>spotify:artist:2wIVse2owClT7go1WT98tk</td>\n",
              "      <td>Missy Elliott</td>\n",
              "    </tr>\n",
              "    <tr>\n",
              "      <th>1</th>\n",
              "      <td>0</td>\n",
              "      <td>spotify:track:6I9VzXrHxO9rA9A5euc8Ak</td>\n",
              "      <td>1</td>\n",
              "      <td>Throwbacks</td>\n",
              "      <td>Toxic</td>\n",
              "      <td>spotify:artist:26dSoYclwsYLMAKD3tpOr4</td>\n",
              "      <td>Britney Spears</td>\n",
              "    </tr>\n",
              "    <tr>\n",
              "      <th>2</th>\n",
              "      <td>0</td>\n",
              "      <td>spotify:track:0WqIKmW4BTrj3eJFmnCKMv</td>\n",
              "      <td>1</td>\n",
              "      <td>Throwbacks</td>\n",
              "      <td>Crazy In Love</td>\n",
              "      <td>spotify:artist:6vWDO969PvNqNYHIOW5v0m</td>\n",
              "      <td>Beyoncé</td>\n",
              "    </tr>\n",
              "    <tr>\n",
              "      <th>3</th>\n",
              "      <td>0</td>\n",
              "      <td>spotify:track:1AWQoqb9bSvzTjaLralEkT</td>\n",
              "      <td>1</td>\n",
              "      <td>Throwbacks</td>\n",
              "      <td>Rock Your Body</td>\n",
              "      <td>spotify:artist:31TPClRtHm23RisEBtV3X7</td>\n",
              "      <td>Justin Timberlake</td>\n",
              "    </tr>\n",
              "    <tr>\n",
              "      <th>4</th>\n",
              "      <td>0</td>\n",
              "      <td>spotify:track:1lzr43nnXAijIGYnCT8M8H</td>\n",
              "      <td>1</td>\n",
              "      <td>Throwbacks</td>\n",
              "      <td>It Wasn't Me</td>\n",
              "      <td>spotify:artist:5EvFsr3kj42KNv97ZEnqij</td>\n",
              "      <td>Shaggy</td>\n",
              "    </tr>\n",
              "  </tbody>\n",
              "</table>\n",
              "</div>"
            ],
            "text/plain": [
              "   pid                             track_uri  rating playlist_name  \\\n",
              "0    0  spotify:track:0UaMYEvWZi0ZqiDOoHU3YI       1    Throwbacks   \n",
              "1    0  spotify:track:6I9VzXrHxO9rA9A5euc8Ak       1    Throwbacks   \n",
              "2    0  spotify:track:0WqIKmW4BTrj3eJFmnCKMv       1    Throwbacks   \n",
              "3    0  spotify:track:1AWQoqb9bSvzTjaLralEkT       1    Throwbacks   \n",
              "4    0  spotify:track:1lzr43nnXAijIGYnCT8M8H       1    Throwbacks   \n",
              "\n",
              "                                   track_name  \\\n",
              "0  Lose Control (feat. Ciara & Fat Man Scoop)   \n",
              "1                                       Toxic   \n",
              "2                               Crazy In Love   \n",
              "3                              Rock Your Body   \n",
              "4                                It Wasn't Me   \n",
              "\n",
              "                              artist_uri        artist_name  \n",
              "0  spotify:artist:2wIVse2owClT7go1WT98tk      Missy Elliott  \n",
              "1  spotify:artist:26dSoYclwsYLMAKD3tpOr4     Britney Spears  \n",
              "2  spotify:artist:6vWDO969PvNqNYHIOW5v0m            Beyoncé  \n",
              "3  spotify:artist:31TPClRtHm23RisEBtV3X7  Justin Timberlake  \n",
              "4  spotify:artist:5EvFsr3kj42KNv97ZEnqij             Shaggy  "
            ]
          },
          "metadata": {
            "tags": []
          },
          "execution_count": 6
        }
      ]
    },
    {
      "cell_type": "code",
      "metadata": {
        "id": "QZPmpMUwcKH6"
      },
      "source": [
        "dls = CollabDataLoaders.from_df(playlists, item_name='track_uri', bs=64)"
      ],
      "execution_count": 9,
      "outputs": []
    },
    {
      "cell_type": "code",
      "metadata": {
        "colab": {
          "base_uri": "https://localhost:8080/",
          "height": 363
        },
        "id": "k1dhHLQXcNjr",
        "outputId": "1f469ec8-5560-4388-811d-14c176365152"
      },
      "source": [
        "dls.show_batch()"
      ],
      "execution_count": 10,
      "outputs": [
        {
          "output_type": "display_data",
          "data": {
            "text/html": [
              "<table border=\"1\" class=\"dataframe\">\n",
              "  <thead>\n",
              "    <tr style=\"text-align: right;\">\n",
              "      <th></th>\n",
              "      <th>pid</th>\n",
              "      <th>track_uri</th>\n",
              "      <th>rating</th>\n",
              "    </tr>\n",
              "  </thead>\n",
              "  <tbody>\n",
              "    <tr>\n",
              "      <th>0</th>\n",
              "      <td>7942</td>\n",
              "      <td>spotify:track:5ghIJDpPoe3CfHMGu71E6T</td>\n",
              "      <td>1</td>\n",
              "    </tr>\n",
              "    <tr>\n",
              "      <th>1</th>\n",
              "      <td>9244</td>\n",
              "      <td>spotify:track:4yuIJbzzerfKkkopLhr68D</td>\n",
              "      <td>1</td>\n",
              "    </tr>\n",
              "    <tr>\n",
              "      <th>2</th>\n",
              "      <td>7990</td>\n",
              "      <td>spotify:track:7Juu32WsD2Spqg8xdPuHlK</td>\n",
              "      <td>1</td>\n",
              "    </tr>\n",
              "    <tr>\n",
              "      <th>3</th>\n",
              "      <td>7789</td>\n",
              "      <td>spotify:track:4hNPMfFHauPIbOKvdYqFt7</td>\n",
              "      <td>1</td>\n",
              "    </tr>\n",
              "    <tr>\n",
              "      <th>4</th>\n",
              "      <td>1460</td>\n",
              "      <td>spotify:track:4gUDdUr5yK0JGlR49zSRVt</td>\n",
              "      <td>1</td>\n",
              "    </tr>\n",
              "    <tr>\n",
              "      <th>5</th>\n",
              "      <td>7343</td>\n",
              "      <td>spotify:track:1S27YnqoB8VygeNWj2yOa2</td>\n",
              "      <td>1</td>\n",
              "    </tr>\n",
              "    <tr>\n",
              "      <th>6</th>\n",
              "      <td>9471</td>\n",
              "      <td>spotify:track:2MRJJfu5FN6nuVuLwwdVpw</td>\n",
              "      <td>1</td>\n",
              "    </tr>\n",
              "    <tr>\n",
              "      <th>7</th>\n",
              "      <td>7095</td>\n",
              "      <td>spotify:track:6TaqooOXAEcijL6G1AWS2K</td>\n",
              "      <td>1</td>\n",
              "    </tr>\n",
              "    <tr>\n",
              "      <th>8</th>\n",
              "      <td>7486</td>\n",
              "      <td>spotify:track:0QyMDyosGai50pjaFbC1NO</td>\n",
              "      <td>1</td>\n",
              "    </tr>\n",
              "    <tr>\n",
              "      <th>9</th>\n",
              "      <td>225</td>\n",
              "      <td>spotify:track:5XzmZjXhMjDHr7ZfJ6DELQ</td>\n",
              "      <td>1</td>\n",
              "    </tr>\n",
              "  </tbody>\n",
              "</table>"
            ],
            "text/plain": [
              "<IPython.core.display.HTML object>"
            ]
          },
          "metadata": {
            "tags": []
          }
        }
      ]
    },
    {
      "cell_type": "code",
      "metadata": {
        "id": "4tcifHN4cXk2"
      },
      "source": [
        "learn = collab_learner(dls, n_factors=50, y_range=(0,1.5))"
      ],
      "execution_count": 11,
      "outputs": []
    },
    {
      "cell_type": "code",
      "metadata": {
        "colab": {
          "base_uri": "https://localhost:8080/",
          "height": 81
        },
        "id": "NDXHz5CsclS-",
        "outputId": "648ed9ec-35dd-4bfa-fd2b-c077a6267182"
      },
      "source": [
        "learn.fit_one_cycle(1, 5e-3)"
      ],
      "execution_count": 12,
      "outputs": [
        {
          "output_type": "display_data",
          "data": {
            "text/html": [
              "<table border=\"1\" class=\"dataframe\">\n",
              "  <thead>\n",
              "    <tr style=\"text-align: left;\">\n",
              "      <th>epoch</th>\n",
              "      <th>train_loss</th>\n",
              "      <th>valid_loss</th>\n",
              "      <th>time</th>\n",
              "    </tr>\n",
              "  </thead>\n",
              "  <tbody>\n",
              "    <tr>\n",
              "      <td>0</td>\n",
              "      <td>0.001541</td>\n",
              "      <td>0.001410</td>\n",
              "      <td>01:19</td>\n",
              "    </tr>\n",
              "  </tbody>\n",
              "</table>"
            ],
            "text/plain": [
              "<IPython.core.display.HTML object>"
            ]
          },
          "metadata": {
            "tags": []
          }
        }
      ]
    },
    {
      "cell_type": "code",
      "metadata": {
        "id": "-fLu0zHJcmPi"
      },
      "source": [
        ""
      ],
      "execution_count": null,
      "outputs": []
    }
  ]
}